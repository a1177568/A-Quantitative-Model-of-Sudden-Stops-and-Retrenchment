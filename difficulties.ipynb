{
 "cells": [
  {
   "attachments": {},
   "cell_type": "markdown",
   "id": "d1177f64",
   "metadata": {},
   "source": [
    "## Some Difficulties in Mind"
   ]
  },
  {
   "attachments": {},
   "cell_type": "markdown",
   "id": "7a5bd3d9",
   "metadata": {},
   "source": [
    "### Endogenous Asset Price\n",
    "\n",
    "In my model, the asset price and its return depend on the portfolio choice of the emerging market. Therefore, it seems impossible to feed the mean and variance of the risky asset returns directly to the PortfolioConsumerType. \n",
    "\n"
   ]
  },
  {
   "attachments": {},
   "cell_type": "markdown",
   "id": "578c93f2",
   "metadata": {},
   "source": [
    "### Two Endogenous State Variables\n",
    "\n",
    "My model has two pre-determined state variables $(A_t, B_t)$, which cannot be reduced to a single dimension of market resources $m_t$. This is because the net foreign asset position of the economy depends on the current long-term bond price, which is endogenous. \n",
    "\n"
   ]
  },
  {
   "attachments": {},
   "cell_type": "markdown",
   "id": "13b55c2b",
   "metadata": {},
   "source": [
    "### Non-typical Portfolio Choice Model\n",
    "\n",
    "Households are natural borrowers. They always hold negative long-term bonds and non-negative risk-free assets for insurance. Therefore, the setting here is slightly different from a typical portfolio choice model in which risky assets and risk-free assets both have positive holdings."
   ]
  },
  {
   "attachments": {},
   "cell_type": "markdown",
   "id": "3990c603",
   "metadata": {},
   "source": [
    "### Potential Challenges in Applying the Solution Method from MicroDSOPs\n",
    "\n",
    "In the lecture note SolvingMicroDSOP\n",
    ", the optimal share of risky assets is first established for each element in the feasible choice of risk-free assets. Following this, the endogenous grid method is utilized to compute the endogenous grids $m$ for $c$. In my scenario, if the objective is to ascertain the optimal level $B'$ for every $A'$, it's necessary to employ the condition as below:\n",
    "\n",
    "\\begin{align*}\n",
    "0=\\mathbb{E}t \\big[u'\\big(C_{t+1}(\\text{Regime}_{t+1}, A_{t+1}, B_{t+1})\\big)(\\frac{\\delta+(1-\\delta)q(\\text{Regime}_{t+1},A_{t+1},B_{t+1})}{q(\\text{Regime}_{t},A_t, B_t)}-R_f)\\big]+\\text{Lagrangian Multipliers}\n",
    "\\end{align*}\n",
    "\n",
    "This equation involves the pair $(A_t, B_t)$. Would this suggest that for every set of states $(\\text{Regime}_t, A_t, B_t)$, an optimal $B_{t+1}^*$ needs to be found corresponding to each potential $A_{t+1}$? If this is the case, I'm still uncertain how to apply the one-dimensional endogenous grid method to resolve for the endogenous grids of $A_t$ and $B_t$ in the subsequent step, given that a single equation is incapable of backing up both $A_t$ and $B_t$."
   ]
  },
  {
   "attachments": {},
   "cell_type": "markdown",
   "id": "36761fe1",
   "metadata": {},
   "source": []
  }
 ],
 "metadata": {
  "kernelspec": {
   "display_name": "Julia 1.8.2",
   "language": "julia",
   "name": "julia-1.8"
  },
  "language_info": {
   "file_extension": ".jl",
   "mimetype": "application/julia",
   "name": "julia",
   "version": "1.8.5"
  }
 },
 "nbformat": 4,
 "nbformat_minor": 5
}
