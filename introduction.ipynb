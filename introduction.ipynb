{
 "cells": [
  {
   "attachments": {},
   "cell_type": "markdown",
   "id": "2565e39b",
   "metadata": {},
   "source": [
    "# Note for A Quantitative Model of Sudden Stops and Retrenchment\n",
    "\n",
    "- Author: Mingzuo Sun (as of June 2023)\n",
    "\n",
    "This study explores an Emerging Market (EM) strategy of issuing risky long-term bonds to maintain consumption and risk-free bonds to withstand the global financial cycle. The global financial cycle is modeled as a regime-switching process, including the normal and sudden-stop regimes. Normally, risk-averse foreign financiers buy long-term EM bonds at reasonable prices. However, financiers are forced to sell EM bonds during sudden stops, enabling EM residents to repurchase long-term bonds at significantly lower prices by easing their risk-free bonds. Our model highlights EM's adaptability to global financial changes via two-way capital flows.\n"
   ]
  },
  {
   "attachments": {},
   "cell_type": "markdown",
   "id": "a033d8c8",
   "metadata": {},
   "source": [
    "## Basic Setup \n"
   ]
  },
  {
   "attachments": {},
   "cell_type": "markdown",
   "id": "99e1981f",
   "metadata": {},
   "source": [
    "### Households\n",
    "\n",
    "\n",
    "In a small open economy (EM) with homogeneous households and a single good, the representative household's period utility flow, derived from the consumption $c_t$ of the good, is\n",
    "\\begin{align*}\n",
    "U(c_t)=\\frac{c_t^{1-\\sigma}}{1-\\sigma}.\n",
    "\\end{align*}\n",
    "The economy trades two assets with the rest of the world: long-term and one-period bonds. The former, issued at time $t$, guarantees $\\delta(1-\\delta)^{j-1}$ units of goods at $t+j$ indefinitely, while the latter guarantees one unit of goods at $t+1$. The one-period bond's price is $\\frac{1}{R_f}$, where $R_f$ is the global risk-free rate, and the long-term bond's price, $q_t$, is endogenous, as we will discuss later."
   ]
  },
  {
   "attachments": {},
   "cell_type": "markdown",
   "id": "008f5353",
   "metadata": {},
   "source": [
    "The household's budget constraint at period $t$ is given by\n",
    "\\begin{align*}\n",
    "\t\\bar y+a_t+\\delta b_t=c_t+\\frac{a_{t+1}}{R_f}+q_t\\big(b_{t+1}-(1-\\delta)b_t\\big)\n",
    "\\end{align*}\n",
    "Households finance their consumption $c_t$, risk-free bond $a_{t+1}$, and long-term bond acquisition $q_t\\big(b_{t+1}-(1-\\delta)b_t\\big)$ using their constant endowment income $\\bar y$, risk-free bond returns $a_t$, and long-term bond coupons $\\delta b_t$. We propose that EM is a net seller of long-term bonds and a net buyer of risk-free bonds, which implies $B_{t+1}\\leq 0$ and $A_{t+1}\\geq0$ for all $t$ - with uppercase letters denoting economy-level aggregation. Moreover, we impose an additional ad-hoc constraint on $B_{t+1}$: $B_{t+1}\\geq \\underline B$, which sets the minimum limit of $B$."
   ]
  },
  {
   "attachments": {},
   "cell_type": "markdown",
   "id": "4e73651a",
   "metadata": {},
   "source": [
    "### Foreign Financiers\n",
    "\n",
    "We assume foreign financiers of an equal population to EM households are the only net holders of the EM-issued long-term bonds. These financiers are homogeneous and perfectly competitive. Each financier has a two-period life cycle: in the first period, they hold EM long-term bonds, and at the beginning of the next period, they sell off their bonds to both the EM and the next generation of financiers and then exit the market.\n"
   ]
  },
  {
   "attachments": {},
   "cell_type": "markdown",
   "id": "f576193f",
   "metadata": {},
   "source": [
    "Financiers born at period $t$ have finite wealth $W_t$ and stochastic discount factors $SDF_{t,t+1}$. Moreover, the following relationship holds under both normal and sudden-stop regimes:\n",
    "\\begin{align*}\n",
    " q_t=\\min\\{E_t\\big[SDF_{t,t+1}\\big(\\delta+(1-\\delta)q_{t+1}\\big)\\big], \\frac{W_t}{b_{t+1}^f}\\}\n",
    "\\end{align*}\n",
    "\n",
    "The above equation suggests that the bond price is the lesser of two figures: one implied by an exogenous stochastic discount factor $SDF_{t,t+1}$, and the other dictated by financiers' wealth $W_t$ over the EM bond holdings of a representative financier $b_{t+1}^f$ (Note that $b_{t+1}^f=-B_{t+1}$ in equilibrium). "
   ]
  },
  {
   "attachments": {},
   "cell_type": "markdown",
   "id": "1a7b9d9f",
   "metadata": {},
   "source": [
    "We assume financiers' wealth ($W_t$) and their stochastic discount factor ($SDF_{t,t+1}$) are contingent on the current financial regime ($Regime_t$). The financial regime is a binary variable, with $Regime=0$ indicating a normal global financial state and $Regime=1$ denoting a sudden-stop episode. It follows an exogenous Markov-switching process with the transition matrix given below:\n",
    "\\begin{align*}\n",
    "\tPr(Regime'|Regime) \\sim \\left[\\begin{array}{ll}\n",
    "\t\t\\pi_{00} & 1-\\pi_{00} \\\\ 1-\\pi_{11} & \\pi_{11}\n",
    "\t\\end{array}\\right]\n",
    "\\end{align*}\n",
    "Here, $\\pi_{00}$ and $\\pi_{11}$ represent the probabilities of a normal regime and a sudden-stop regime continuing, respectively."
   ]
  },
  {
   "attachments": {},
   "cell_type": "markdown",
   "id": "5adf617e",
   "metadata": {},
   "source": [
    "We propose that $W_t$ equals $\\bar W$ in normal regimes and $\\underline W$ in sudden-stop regimes, with $\\bar W$ and $\\underline W$ being constants. We posit that financiers' wealth $\\bar W$ under normal regime is sizable enough (say, $10^{10}*\\bar y$) for the SDF to establish the bond price accurately. However, during sudden-stop episodes, their wealth $\\underline W$ is low enough to ensure that $q_t=\\frac{\\underline W}{b_{t+1}^f}$ may feasibly occur within the ergodic set. \n",
    "\n",
    "Further more, the stochastic discount factor follows the scheme:\n",
    "\\begin{align*}\n",
    "    SDF_{t,t+1} =\n",
    "    \\begin{cases}\n",
    "        \\begin{aligned}\n",
    "            \\frac{1}{R_f+(1-\\pi_{00})(R^\\kappa-1)R_f} &,\\quad \\text{if $Regime_{t}=0$ and $Regime_{t+1}=0$} \\\\\n",
    "            \\frac{R^\\kappa}{R_f+(1-\\pi_{00})(R^\\kappa-1)R_f} &,\\quad \\text{if $Regime_{t}=0$ and $Regime_{t+1}=1$} \\\\\n",
    "            \\frac{1}{R_f+\\pi_{11}(R^\\kappa-1)R_f} &,\\quad \\text{if $Regime_{t}=1$ and $Regime_{t+1}=0$} \\\\\n",
    "            \\frac{R^\\kappa}{R_f+\\pi_{11}(R^\\kappa-1)R_f} &,\\quad \\text{if $Regime_{t}=1$ and $Regime_{t+1}=1$} \n",
    "        \\end{aligned}\n",
    "    \\end{cases}\n",
    "\\end{align*}"
   ]
  },
  {
   "attachments": {},
   "cell_type": "markdown",
   "id": "0bc52ea6",
   "metadata": {},
   "source": [
    "Thus, the bond's price is determined by the upper two SDFs in normal regimes and by the lower two in sudden-stop regimes, assuming financiers' wealth constraint is not binding. The parameter $R^\\kappa>1$ reflects financiers' effective risk-aversion, valuing future payoffs during sudden stops more than in normal periods. Moreover, $E_t[SDF_{t,t+1}]=\\frac{1}{R_f}$ stands regardless of the financial regime at period $t$."
   ]
  },
  {
   "attachments": {},
   "cell_type": "markdown",
   "id": "781dee9c",
   "metadata": {},
   "source": [
    "## Recursie Competitive Equilibrium \n",
    "\n",
    "We focus on  the class of Markov Perfect equilibrium. That is, the decision rules of EM households only depends on payoff-relevant state variables, $s\\equiv (Regime, A, B)$. Then the competitive equilibrium is defined by\n",
    "\n",
    "(i) a set of laws of motion of gross positions $A'(s)$ and $B'(s)$\n",
    "\n",
    "(ii) an aggregate consumption function $C(s)$\n",
    "\n",
    "(ii)a long-term bond price function $q(s)$\n",
    "\n",
    "such that \n",
    "\n",
    "(a) $A'(s)$, $B'(s)$, $C(s)$ and $q(s)$ satisfy the budget constraint\n",
    "\\begin{align*}\n",
    " \\bar y+A+\\delta B=C(s)+\\frac{A'(s)}{R_f}+q(s)\\big(B'(s)-(1-\\delta)B\\big)\n",
    "\\end{align*}\n",
    "\n",
    "\n",
    "(b) Given $q(s)$, $A'(s)$, $B'(s)$ and $C(s)$  have to solve the following Euler equations\n",
    "\\begin{align*}\n",
    " \\frac{C(s)^{-\\sigma}}{R_f}=\\beta E_{Regime'|Regime} C\\big(Regime', A'(s), B'(s)\\big)^{-\\sigma}+\\mu_A(s) \\\\\n",
    " C(s)^{-\\sigma}q(s)=\\beta E_{Regime'|Regime}\\Big[ C\\big(Regime', A'(s), B'(s)\\big)^{-\\sigma}\\Big(\\delta +(1-\\delta)q\\big(Regime',  A'(s), B'(s)\\big) \\Big)\\Big]+\\mu_B(s)-\\gamma(s)\n",
    "\\end{align*}\n",
    "\n",
    "Here, $C(s)^{-\\sigma}$ signifies a household's marginal utility in consumption in state $s$. $\\mu_A(s)$ and $\\mu_B(s)$ are the Lagrange multipliers related to $A'(s)\\geq 0$ and $B'(s)\\geq \\underline B$, respectively. $\\gamma(s)$ is the Lagrange multiplier for $B'(s)\\leq 0$.\n",
    "\n",
    "(c) Given $A'(s)$ and $B'(s)$, $q(s)$ satisfies\n",
    "\\begin{align*}\n",
    " q(s)=\\min\\{E_{Regime'|Regime}\\big[SDF_{Regime,Regime'}\\Big(\\delta+(1-\\delta)q\\big(Regime', A'(s),B'(s)\\big)\\Big)\\Big], -\\frac{\\underline W}{B'(s)}\\}\n",
    "\\end{align*}\n"
   ]
  },
  {
   "attachments": {},
   "cell_type": "markdown",
   "id": "8d049efe",
   "metadata": {},
   "source": [
    "## Constrained Efficiency \n",
    "\n",
    "In contrast to competitive equilibrium, we posit a benevolent social planner orchestrating decisions for EM, interacting with the same foreign financiers as EM households. Distinct from uncoordinated private households in competitive equilibrium, the planner does not take the bond price as given but takes into account the impact of her portfolio choice $(A', B')$ on the current bond price, leveraging her monopoly power over long-term bonds. Therefore, constrained efficiency is defined as:\n",
    "\n",
    "(i) a set of portfolio rules $A'(Regime, A, B)$ and $B'(Regime, A, B)$\n",
    "\n",
    "(ii) a value function $V(Regime, A, B)$\n",
    "\n",
    "(iii)a long-term bond price function $q^{sp}(Regime, A, B)$\n",
    "\n",
    "such that \n",
    "\n",
    "(a) Given $q^{sp}(Regime, A, B)$, $A'(Regime, A, B)$, $B'(Regime, A, B)$ and $V(Regime, A, B)$ solve the following Bellman equation\n",
    "\\begin{align*}\n",
    "V(&Regime, A, B) \\equiv \\\\\n",
    "&\\max_{\\substack{A'\\geq 0\\\\ \\underline B\\leq B'\\leq 0}} \\Bigg\\{\n",
    "u\\Bigg(y+A+\\delta B-Q\\big( Regime, A', B'\\big)\\big(B'-(1-\\delta)B\\big)-\\frac{A'}{R_f} \\Bigg)\\\\\n",
    "&\\qquad +\\beta E_{Regime'|Regime} V\\big(Regime', A', B'\\big)\\Bigg\\}\n",
    "\\end{align*}\n",
    "s.t\n",
    "\\begin{align*}\n",
    " Q(Regime, A', B')=\\min\\{E_{Regime'|Regime}\\big[SDF_{Regime,Regime'}*\\big(\\delta+(1-\\delta)q^{sp}(Regime', A',B')\\big)\\big], -\\frac{\\underline W}{B'(s)}\\}\n",
    "\\end{align*}\n",
    "(b) Given $A'(Regime, A, B)$ and $B'(Regime, A, B)$, $q^{sp}(Regime, A, B)$ satisfies\n",
    "\\begin{align*}\n",
    "q^{sp}(Regime, A, B)=Q(Regime, A'(Regime, A, B), B'(Regime, A, B))\n",
    "\\end{align*}\n",
    "\n",
    "\n",
    "\n",
    "\n"
   ]
  },
  {
   "attachments": {},
   "cell_type": "markdown",
   "id": "9190e763",
   "metadata": {},
   "source": []
  }
 ],
 "metadata": {
  "kernelspec": {
   "display_name": "Julia 1.8.2",
   "language": "julia",
   "name": "julia-1.8"
  },
  "language_info": {
   "file_extension": ".jl",
   "mimetype": "application/julia",
   "name": "julia",
   "version": "1.8.5"
  }
 },
 "nbformat": 4,
 "nbformat_minor": 5
}
